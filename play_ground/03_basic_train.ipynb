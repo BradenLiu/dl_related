{
 "cells": [
  {
   "cell_type": "code",
   "execution_count": 1,
   "metadata": {},
   "outputs": [],
   "source": [
    "from uti.datablock import *"
   ]
  },
  {
   "cell_type": "code",
   "execution_count": 2,
   "metadata": {},
   "outputs": [
    {
     "name": "stdout",
     "output_type": "stream",
     "text": [
      "/home/jupyter/.fastai/data/mnist.pkl.gz\n"
     ]
    }
   ],
   "source": [
    "x_train,y_train,x_valid,y_valid = get_data()"
   ]
  },
  {
   "cell_type": "code",
   "execution_count": 4,
   "metadata": {},
   "outputs": [],
   "source": [
    "train_ds,valid_ds = get_dataset(x_train,y_train,x_valid,y_valid)"
   ]
  },
  {
   "cell_type": "code",
   "execution_count": 5,
   "metadata": {},
   "outputs": [],
   "source": [
    "data = Databunch(*get_dl(train_ds,valid_ds,bs=64))"
   ]
  },
  {
   "cell_type": "code",
   "execution_count": 22,
   "metadata": {},
   "outputs": [
    {
     "data": {
      "text/plain": [
       "10"
      ]
     },
     "execution_count": 22,
     "metadata": {},
     "output_type": "execute_result"
    }
   ],
   "source": [
    "data.c = len(y_train.unique())\n",
    "data.c"
   ]
  },
  {
   "cell_type": "code",
   "execution_count": 14,
   "metadata": {},
   "outputs": [],
   "source": [
    "#export\n",
    "from torch import optim\n",
    "import torch.nn as nn\n",
    "import torch.nn.functional as F"
   ]
  },
  {
   "cell_type": "code",
   "execution_count": 10,
   "metadata": {},
   "outputs": [],
   "source": [
    "#export\n",
    "def get_model(data,lr=0.5,nh=50):\n",
    "    m = data.train_ds.tensors[0].shape[1]\n",
    "    model = nn.Sequential(nn.Linear(m,nh),nn.ReLU(),nn.Linear(nh,data.c))\n",
    "    opt = optim.SGD(model.parameters(),lr=lr)\n",
    "    return model,opt\n",
    "\n",
    "class Learner():\n",
    "    def __init__(self, model,opt,loss_func,data):\n",
    "        self.model,self.opt,self.loss_func,self.data = model,opt,loss_func,data"
   ]
  },
  {
   "cell_type": "code",
   "execution_count": 12,
   "metadata": {},
   "outputs": [],
   "source": [
    "loss_func = F.cross_entropy"
   ]
  },
  {
   "cell_type": "code",
   "execution_count": 23,
   "metadata": {},
   "outputs": [],
   "source": [
    "model,opt = get_model(data)"
   ]
  },
  {
   "cell_type": "code",
   "execution_count": 24,
   "metadata": {},
   "outputs": [],
   "source": [
    "learn = Learner(model,opt,loss_func,data)"
   ]
  },
  {
   "cell_type": "code",
   "execution_count": 25,
   "metadata": {},
   "outputs": [],
   "source": [
    "def fit(epochs,learn):\n",
    "    for epoch in range(epochs):\n",
    "        learn.model.train()\n",
    "        for xb,yb in learn.data.train_dl:\n",
    "            batch_preds = learn.model(xb)\n",
    "            loss = learn.loss_func(batch_preds,yb)\n",
    "            loss.backward()\n",
    "            learn.opt.step()\n",
    "            learn.opt.zero_grad()\n",
    "            \n",
    "        learn.model.eval()\n",
    "        with torch.no_grad():\n",
    "            total_loss, accuracy = 0.0, 0.0\n",
    "            for xb,yb in learn.data.valid_dl:\n",
    "                valid_preds = learn.model(xb)\n",
    "                total_loss += learn.loss_func(valid_preds,yb)\n",
    "                accuracy += (torch.argmax(valid_preds,dim=1) == yb).float().mean()\n",
    "        \n",
    "        nv = len(learn.data.valid_dl)\n",
    "        print(epoch, total_loss/nv, accuracy/nv)\n",
    "    return total_loss/nv, accuracy/nv"
   ]
  },
  {
   "cell_type": "code",
   "execution_count": 27,
   "metadata": {},
   "outputs": [
    {
     "name": "stdout",
     "output_type": "stream",
     "text": [
      "0 tensor(0.1114) tensor(0.9692)\n",
      "1 tensor(0.0998) tensor(0.9728)\n",
      "2 tensor(0.1072) tensor(0.9694)\n",
      "3 tensor(0.1037) tensor(0.9717)\n"
     ]
    }
   ],
   "source": [
    "loss,acc = fit(4,learn)"
   ]
  },
  {
   "cell_type": "code",
   "execution_count": null,
   "metadata": {},
   "outputs": [],
   "source": []
  }
 ],
 "metadata": {
  "kernelspec": {
   "display_name": "Python 3",
   "language": "python",
   "name": "python3"
  },
  "language_info": {
   "codemirror_mode": {
    "name": "ipython",
    "version": 3
   },
   "file_extension": ".py",
   "mimetype": "text/x-python",
   "name": "python",
   "nbconvert_exporter": "python",
   "pygments_lexer": "ipython3",
   "version": "3.7.2"
  }
 },
 "nbformat": 4,
 "nbformat_minor": 2
}
