{
 "cells": [
  {
   "cell_type": "code",
   "execution_count": 1,
   "metadata": {},
   "outputs": [],
   "source": [
    "%load_ext autoreload\n",
    "%autoreload 2\n",
    "%matplotlib inline"
   ]
  },
  {
   "cell_type": "code",
   "execution_count": 2,
   "metadata": {},
   "outputs": [],
   "source": [
    "#export\n",
    "from uti.basic_train import *"
   ]
  },
  {
   "cell_type": "code",
   "execution_count": 3,
   "metadata": {},
   "outputs": [
    {
     "name": "stdout",
     "output_type": "stream",
     "text": [
      "/home/jupyter/.fastai/data/mnist.pkl.gz\n"
     ]
    }
   ],
   "source": [
    "train_ds,valid_ds = get_dataset(*get_data())\n",
    "data = Databunch(*get_dl(train_ds,valid_ds,bs=64),c=10)"
   ]
  },
  {
   "cell_type": "code",
   "execution_count": 4,
   "metadata": {},
   "outputs": [],
   "source": [
    "loss_func = F.cross_entropy"
   ]
  },
  {
   "cell_type": "code",
   "execution_count": 5,
   "metadata": {},
   "outputs": [],
   "source": [
    "learn = Learner(*get_model(data),loss_func,data)"
   ]
  },
  {
   "cell_type": "code",
   "execution_count": 6,
   "metadata": {},
   "outputs": [],
   "source": [
    "def one_batch(xb,yb,cb_handler):\n",
    "    if not cb_handler.begin_batch(xb,yb): return\n",
    "    preds = cb_handler.learn.model(xb)\n",
    "    loss = cb_handler.learn.loss_func(preds,yb)\n",
    "    if not cb_handler.after_loss(loss,preds): return\n",
    "    if not cb_handler.begin_backward(): return\n",
    "    loss.backward()\n",
    "    if cb_handler.after_backward(): cb_handler.learn.opt.step()\n",
    "    if cb_handler.after_step(): cb_handler.learn.opt.zero_grad()\n",
    "\n",
    "def all_batches(dl, cb_handler):\n",
    "    for xb,yb in dl:\n",
    "        one_batch(xb,yb,cb_handler)\n",
    "        if cb_handler.do_stop(): return \n",
    "\n",
    "\n",
    "def fit(epochs,learn,cb_handler):\n",
    "    if not cb_handler.begin_fit(learn): return\n",
    "    for epoch in range(epochs):\n",
    "        if not cb_handler.begin_epoch(epoch): continue\n",
    "        all_batches(learn.data.train_dl,cb_handler)\n",
    "        \n",
    "        if cb_handler.begin_validate():\n",
    "            with torch.no_grad(): all_batches(learn.data.valid_dl,cb_handler)\n",
    "        if cb_handler.do_stop() or not cb_handler.after_epoch(): break\n",
    "    \n",
    "    cb_handler.after_fit()\n"
   ]
  },
  {
   "cell_type": "code",
   "execution_count": 7,
   "metadata": {},
   "outputs": [],
   "source": [
    "#export\n",
    "#abstract class for callbacks\n",
    "class Callbacks():\n",
    "    _order = 0\n",
    "    def begin_fit(self,learn):\n",
    "        self.learn = learn\n",
    "        return True\n",
    "    def after_fit(self): return True\n",
    "    def begin_epoch(self,epoch):\n",
    "        self.epoch = epoch\n",
    "        return True\n",
    "    def begin_validate(self): return True\n",
    "    def after_epoch(self): return True\n",
    "    def begin_batch(self,xb,yb):\n",
    "        self.xb, self.yb = xb, yb\n",
    "        return True\n",
    "    def after_loss(self,loss,preds):\n",
    "        self.loss = loss\n",
    "        self.preds = preds\n",
    "        return True\n",
    "    def after_backward(self): return True\n",
    "    def after_step(self): return True"
   ]
  },
  {
   "cell_type": "code",
   "execution_count": 27,
   "metadata": {},
   "outputs": [],
   "source": [
    "#export\n",
    "class CallbackHandler():\n",
    "    def __init__(self,cbs=None):\n",
    "        self.cbs = cbs if cbs else []\n",
    "    \n",
    "    def begin_fit(self,learn):\n",
    "        self.learn = learn\n",
    "        self.in_train = True\n",
    "        self.learn.stop = False\n",
    "        if len(self.cbs) is 0: return True #may cause problem\n",
    "        res = True\n",
    "        for cb in sorted(self.cbs,key=lambda x: x._order): res = res and cb.begin_fit(learn)\n",
    "        return res\n",
    "    \n",
    "    def after_fit(self):\n",
    "        if len(self.cbs) is 0: return True\n",
    "        res = not self.in_train\n",
    "        for cb in sorted(self.cbs,key=lambda x: x._order): res = res and cb.after_fit()\n",
    "        return res\n",
    "    \n",
    "    def begin_epoch(self,epoch):\n",
    "        self.learn.model.train()\n",
    "        self.in_train = True\n",
    "        if len(self.cbs) is 0: return True #may cause problem\n",
    "        res = True\n",
    "        for cb in sorted(self.cbs,key=lambda x: x._order): res = res and cb.begin_epoch(epoch)\n",
    "        return res\n",
    "    \n",
    "    def begin_validate(self):\n",
    "        self.learn.model.eval()\n",
    "        self.in_train = False\n",
    "        if len(self.cbs) is 0: return True #may cause problem\n",
    "        res = True\n",
    "        for cb in sorted(self.cbs,key=lambda x: x._order): res = res and cb.begin_validate()\n",
    "        return res\n",
    "    \n",
    "    def after_epoch(self):\n",
    "        if len(self.cbs) is 0: return True\n",
    "        res = True\n",
    "        for cb in sorted(self.cbs,key=lambda x: x._order): res = res and cb.after_epoch()\n",
    "        return res\n",
    "    \n",
    "    def begin_batch(self,xb,yb):\n",
    "        if len(self.cbs) is 0: return True\n",
    "        res = True\n",
    "        for cb in sorted(self.cbs,key=lambda x: x._order): res = res and cb.begin_batch(xb,yb)\n",
    "        return res\n",
    "    \n",
    "    def after_loss(self,loss,preds):\n",
    "        if len(self.cbs) is 0: return True\n",
    "        res = True\n",
    "        for cb in sorted(self.cbs,key=lambda x: x._order): res = res and cb.after_loss(loss,preds)\n",
    "        return res\n",
    "    \n",
    "    def begin_backward(self):\n",
    "        res = self.in_train\n",
    "        return res\n",
    "    \n",
    "    def after_backward(self):\n",
    "        if len(self.cbs) is 0: return True\n",
    "        res = True\n",
    "        for cb in sorted(self.cbs,key=lambda x: x._order): res = res and cb.after_backward()\n",
    "        return res\n",
    "    \n",
    "    def after_step(self):\n",
    "        if len(self.cbs) is 0: return True\n",
    "        res = True\n",
    "        for cb in sorted(self.cbs,key=lambda x: x._order): res = res and cb.after_step()\n",
    "        return res\n",
    "    \n",
    "    def do_stop(self):\n",
    "        try: return self.learn.stop\n",
    "        finally: self.learn.stop = False"
   ]
  },
  {
   "cell_type": "code",
   "execution_count": 12,
   "metadata": {},
   "outputs": [],
   "source": [
    "class Accuracy(Callbacks):\n",
    "    _order = 10\n",
    "    def begin_epoch(self,epoch):\n",
    "        self.total_loss, self.total_acc = 0,0\n",
    "        print('Acc')\n",
    "        return super().begin_epoch(epoch)\n",
    "    \n",
    "    def begin_validate(self):\n",
    "        nv = len(self.learn.data.train_dl)\n",
    "        print('Train: ', self.epoch, self.total_loss / nv, self.total_acc / nv)\n",
    "        self.total_loss, self.total_acc = 0,0\n",
    "        return True\n",
    "    \n",
    "    def accuracy(self, out, yb): return (torch.argmax(out, dim=1)==yb).float().mean()\n",
    "    \n",
    "    def after_loss(self,loss,preds):\n",
    "        self.total_loss += loss\n",
    "        self.total_acc += self.accuracy(preds,self.yb)\n",
    "        return True\n",
    "    \n",
    "    def after_epoch(self):\n",
    "        total_batch = len(self.learn.data.valid_dl)\n",
    "        print('Valid: ', self.epoch, self.total_loss / total_batch, self.total_acc / total_batch)\n",
    "        return True"
   ]
  },
  {
   "cell_type": "code",
   "execution_count": 13,
   "metadata": {},
   "outputs": [],
   "source": [
    "class TestEarly(Callbacks):\n",
    "    _order = 1\n",
    "    def begin_epoch(self,epoch):\n",
    "        print('Early')\n",
    "        return True\n",
    "\n",
    "class TestMid(Callbacks):\n",
    "    _order = 5\n",
    "    def begin_epoch(self,epoch):\n",
    "        print('Mid')\n",
    "        return True"
   ]
  },
  {
   "cell_type": "code",
   "execution_count": 14,
   "metadata": {},
   "outputs": [
    {
     "data": {
      "text/plain": [
       "(1, 5)"
      ]
     },
     "execution_count": 14,
     "metadata": {},
     "output_type": "execute_result"
    }
   ],
   "source": [
    "cb_early = TestEarly()\n",
    "cb_mid = TestMid()\n",
    "cb = Accuracy()\n",
    "cb_early._order, cb_mid._order"
   ]
  },
  {
   "cell_type": "code",
   "execution_count": 15,
   "metadata": {},
   "outputs": [],
   "source": [
    "cbs = CallbackHandler([cb,cb_early,cb_mid])"
   ]
  },
  {
   "cell_type": "code",
   "execution_count": 16,
   "metadata": {},
   "outputs": [
    {
     "name": "stdout",
     "output_type": "stream",
     "text": [
      "<__main__.Accuracy object at 0x7f62e72f9208>\n",
      "<__main__.TestEarly object at 0x7f62e72f96d8>\n",
      "<__main__.TestMid object at 0x7f62e72f9748>\n"
     ]
    }
   ],
   "source": [
    "for cb in cbs.cbs:\n",
    "    print(cb)"
   ]
  },
  {
   "cell_type": "code",
   "execution_count": 17,
   "metadata": {},
   "outputs": [
    {
     "name": "stdout",
     "output_type": "stream",
     "text": [
      "<__main__.TestEarly object at 0x7f62e72f96d8>\n",
      "<__main__.TestMid object at 0x7f62e72f9748>\n",
      "<__main__.Accuracy object at 0x7f62e72f9208>\n"
     ]
    }
   ],
   "source": [
    "for cb in sorted(cbs.cbs,key=lambda x: x._order):\n",
    "    print(cb)"
   ]
  },
  {
   "cell_type": "code",
   "execution_count": 18,
   "metadata": {},
   "outputs": [
    {
     "name": "stdout",
     "output_type": "stream",
     "text": [
      "Early\n",
      "Mid\n",
      "Acc\n",
      "Train:  0 tensor(0.3181, grad_fn=<DivBackward0>) tensor(0.9017)\n",
      "Valid:  0 tensor(0.1722) tensor(0.9493)\n",
      "Early\n",
      "Mid\n",
      "Acc\n",
      "Train:  1 tensor(0.1464, grad_fn=<DivBackward0>) tensor(0.9551)\n",
      "Valid:  1 tensor(0.1212) tensor(0.9630)\n"
     ]
    }
   ],
   "source": [
    "fit(2,learn,cbs)"
   ]
  },
  {
   "cell_type": "code",
   "execution_count": 19,
   "metadata": {},
   "outputs": [
    {
     "name": "stdout",
     "output_type": "stream",
     "text": [
      "Acc\n",
      "Train:  0 tensor(0.3126, grad_fn=<DivBackward0>) tensor(0.9042)\n",
      "Valid:  0 tensor(0.2466) tensor(0.9229)\n",
      "Acc\n",
      "Train:  1 tensor(0.1408, grad_fn=<DivBackward0>) tensor(0.9572)\n",
      "Valid:  1 tensor(0.1839) tensor(0.9467)\n",
      "Acc\n",
      "Train:  2 tensor(0.1082, grad_fn=<DivBackward0>) tensor(0.9672)\n",
      "Valid:  2 tensor(0.1055) tensor(0.9691)\n",
      "Acc\n",
      "Train:  3 tensor(0.0896, grad_fn=<DivBackward0>) tensor(0.9728)\n",
      "Valid:  3 tensor(0.0959) tensor(0.9708)\n"
     ]
    }
   ],
   "source": [
    "learn = Learner(*get_model(data),loss_func,data)\n",
    "cb_acc = Accuracy()\n",
    "fit(4,learn,cb_handler=CallbackHandler([cb_acc]))"
   ]
  },
  {
   "cell_type": "code",
   "execution_count": 28,
   "metadata": {},
   "outputs": [],
   "source": [
    "learn = Learner(*get_model(data),loss_func,data)\n",
    "fit(2,learn,cb_handler=CallbackHandler([]))"
   ]
  },
  {
   "cell_type": "markdown",
   "metadata": {},
   "source": [
    "# Fin"
   ]
  },
  {
   "cell_type": "code",
   "execution_count": 29,
   "metadata": {},
   "outputs": [],
   "source": [
    "from notebook2script import *"
   ]
  },
  {
   "cell_type": "code",
   "execution_count": 30,
   "metadata": {},
   "outputs": [
    {
     "name": "stdout",
     "output_type": "stream",
     "text": [
      "Converted 04_callback.ipynb to uti/callback_04.py\n"
     ]
    }
   ],
   "source": [
    "notebook2script('04_callback.ipynb','callback')"
   ]
  },
  {
   "cell_type": "code",
   "execution_count": null,
   "metadata": {},
   "outputs": [],
   "source": []
  }
 ],
 "metadata": {
  "kernelspec": {
   "display_name": "Python 3",
   "language": "python",
   "name": "python3"
  },
  "language_info": {
   "codemirror_mode": {
    "name": "ipython",
    "version": 3
   },
   "file_extension": ".py",
   "mimetype": "text/x-python",
   "name": "python",
   "nbconvert_exporter": "python",
   "pygments_lexer": "ipython3",
   "version": "3.7.2"
  }
 },
 "nbformat": 4,
 "nbformat_minor": 2
}
