{
 "cells": [
  {
   "cell_type": "code",
   "execution_count": 11,
   "metadata": {},
   "outputs": [],
   "source": [
    "%reload_ext autoreload\n",
    "%autoreload 2\n",
    "%matplotlib inline"
   ]
  },
  {
   "cell_type": "code",
   "execution_count": 12,
   "metadata": {},
   "outputs": [],
   "source": [
    "#export\n",
    "from uti.callback_04 import *\n",
    "import math"
   ]
  },
  {
   "cell_type": "code",
   "execution_count": 13,
   "metadata": {},
   "outputs": [],
   "source": [
    "#export\n",
    "def one_batch(xb,yb,cb_handler):\n",
    "    if not cb_handler.begin_batch(xb,yb): return\n",
    "    preds = cb_handler.learn.model(xb)\n",
    "    loss = cb_handler.learn.loss_func(preds,yb)\n",
    "    if not cb_handler.after_loss(loss,preds): return\n",
    "    if not cb_handler.begin_backward(): return\n",
    "    loss.backward()\n",
    "    if cb_handler.after_backward(): cb_handler.learn.opt.step()\n",
    "    if cb_handler.after_step(): cb_handler.learn.opt.zero_grad()\n",
    "\n",
    "def all_batches(dl, cb_handler):\n",
    "    for xb,yb in dl:\n",
    "        one_batch(xb,yb,cb_handler)\n",
    "        if cb_handler.do_stop(): return \n",
    "\n",
    "\n",
    "def fit(epochs,learn,cb_handler):\n",
    "    if not cb_handler.begin_fit(learn): return\n",
    "    for epoch in range(epochs):\n",
    "        if not cb_handler.begin_epoch(epoch): continue\n",
    "        all_batches(learn.data.train_dl,cb_handler)\n",
    "        \n",
    "        if cb_handler.begin_validate():\n",
    "            with torch.no_grad(): all_batches(learn.data.valid_dl,cb_handler)\n",
    "        if cb_handler.do_stop() or not cb_handler.after_epoch(): break\n",
    "    \n",
    "    cb_handler.after_fit()"
   ]
  },
  {
   "cell_type": "code",
   "execution_count": 27,
   "metadata": {},
   "outputs": [],
   "source": [
    "#export\n",
    "class Accuracy(Callbacks):\n",
    "    _order = 10\n",
    "    def begin_epoch(self,epoch):\n",
    "        self.total_loss, self.total_acc = 0,0\n",
    "        return super().begin_epoch(epoch)\n",
    "    \n",
    "    def begin_validate(self):\n",
    "        nv = len(self.learn.data.train_dl)\n",
    "        print('Train: ', self.epoch, self.total_loss / nv, self.total_acc / nv)\n",
    "        self.total_loss, self.total_acc = 0,0\n",
    "        return True\n",
    "    \n",
    "    def accuracy(self, out, yb): return (torch.argmax(out, dim=1)==yb).float().mean()\n",
    "    \n",
    "    def after_loss(self,loss,preds):\n",
    "        self.total_loss += loss\n",
    "        self.total_acc += self.accuracy(preds,self.yb)\n",
    "        return True\n",
    "    \n",
    "    def after_epoch(self):\n",
    "        total_batch = len(self.learn.data.valid_dl)\n",
    "        print('Valid: ', self.epoch, self.total_loss / total_batch, self.total_acc / total_batch)\n",
    "        return True"
   ]
  },
  {
   "cell_type": "code",
   "execution_count": 15,
   "metadata": {},
   "outputs": [],
   "source": [
    "#export\n",
    "class LRFind(Callbacks):\n",
    "    def begin_fit(self,learn,start=1e-8,end=10.,beta=0.98):\n",
    "        super().begin_fit(learn)\n",
    "        self.start, self.end, self.beta = start, end, beta\n",
    "        self.current_lr = start\n",
    "        self.ratio = (end / start) ** (1 / (len(self.learn.data.train_dl)-1))\n",
    "        self.lr = []\n",
    "        self.losses = []\n",
    "        self.best_loss = 0.\n",
    "        self.avg_loss = 0.\n",
    "        self.smooth_loss = 0.\n",
    "        self.batch_num = 0\n",
    "        return True\n",
    "        \n",
    "    def begin_batch(self,xb,yb):\n",
    "        self.xb,self.yb = xb, yb\n",
    "        self.batch_num += 1\n",
    "        self.learn.opt.param_groups[0]['lr'] = self.current_lr\n",
    "        return True\n",
    "    \n",
    "    def after_loss(self,loss,preds):\n",
    "        self.loss = loss\n",
    "        self.avg_loss = self.avg_loss * self.beta + self.loss.data * (1 - self.beta)\n",
    "        self.smooth_loss = self.avg_loss / (1 - self.beta ** self.batch_num) #debias\n",
    "        if self.batch_num > 1 and self.smooth_loss > 4 * self.best_loss:\n",
    "            self.learn.stop = True\n",
    "            return True\n",
    "        if self.batch_num == 1 or self.best_loss > self.smooth_loss:\n",
    "            self.best_loss = self.smooth_loss\n",
    "            self.best_lr = self.current_lr\n",
    "        self.losses.append(self.smooth_loss)\n",
    "        self.lr.append(math.log10(self.current_lr))\n",
    "        self.current_lr *= self.ratio\n",
    "        return True\n",
    "    \n",
    "    def begin_validate(self):\n",
    "        return False"
   ]
  },
  {
   "cell_type": "code",
   "execution_count": 16,
   "metadata": {},
   "outputs": [],
   "source": [
    "lr_find = LRFind()"
   ]
  },
  {
   "cell_type": "code",
   "execution_count": 17,
   "metadata": {},
   "outputs": [
    {
     "name": "stdout",
     "output_type": "stream",
     "text": [
      "/home/jupyter/.fastai/data/mnist.pkl.gz\n"
     ]
    }
   ],
   "source": [
    "train_ds,valid_ds = get_dataset(*get_data())\n",
    "data = Databunch(*get_dl(train_ds,valid_ds,bs=64),c=10)\n",
    "\n",
    "loss_func = F.cross_entropy\n",
    "learn = Learner(*get_model(data),loss_func,data)"
   ]
  },
  {
   "cell_type": "code",
   "execution_count": 18,
   "metadata": {},
   "outputs": [],
   "source": [
    "fit(1,learn,cb_handler=CallbackHandler([lr_find]))"
   ]
  },
  {
   "cell_type": "code",
   "execution_count": 19,
   "metadata": {},
   "outputs": [
    {
     "data": {
      "text/plain": [
       "[<matplotlib.lines.Line2D at 0x7f495ec33e10>]"
      ]
     },
     "execution_count": 19,
     "metadata": {},
     "output_type": "execute_result"
    },
    {
     "data": {
      "image/png": "[encoded data removed]",
      "text/plain": [
       "<Figure size 432x288 with 1 Axes>"
      ]
     },
     "metadata": {
      "needs_background": "light"
     },
     "output_type": "display_data"
    }
   ],
   "source": [
    "plt.plot(lr_find.lr[10:-5],lr_find.losses[10:-5])"
   ]
  },
  {
   "cell_type": "code",
   "execution_count": 20,
   "metadata": {},
   "outputs": [
    {
     "data": {
      "text/plain": [
       "0.8706041692732404"
      ]
     },
     "execution_count": 20,
     "metadata": {},
     "output_type": "execute_result"
    }
   ],
   "source": [
    "lr_find.best_lr"
   ]
  },
  {
   "cell_type": "code",
   "execution_count": 24,
   "metadata": {},
   "outputs": [],
   "source": [
    "#export\n",
    "\n",
    "from functools import partial \n",
    "\n",
    "def create_learner(model_func,loss_func,data):\n",
    "    return Learner(*model_func(data),loss_func,data)\n",
    "\n",
    "def get_model_func(get_model,lr=0.5):\n",
    "    return partial(get_model,lr=lr)"
   ]
  },
  {
   "cell_type": "code",
   "execution_count": 52,
   "metadata": {},
   "outputs": [],
   "source": [
    "learn = create_learner(get_model_func(get_model,lr=0.55),loss_func,data)"
   ]
  },
  {
   "cell_type": "code",
   "execution_count": 40,
   "metadata": {},
   "outputs": [
    {
     "name": "stdout",
     "output_type": "stream",
     "text": [
      "Train:  0 tensor(0.3203, grad_fn=<DivBackward0>) tensor(0.9004)\n",
      "Valid:  0 tensor(0.1567) tensor(0.9547)\n",
      "Train:  1 tensor(0.1422, grad_fn=<DivBackward0>) tensor(0.9562)\n",
      "Valid:  1 tensor(0.1221) tensor(0.9650)\n",
      "Train:  2 tensor(0.1090, grad_fn=<DivBackward0>) tensor(0.9673)\n",
      "Valid:  2 tensor(0.2795) tensor(0.9315)\n",
      "Train:  3 tensor(0.0871, grad_fn=<DivBackward0>) tensor(0.9725)\n",
      "Valid:  3 tensor(0.1091) tensor(0.9675)\n",
      "Train:  4 tensor(0.0722, grad_fn=<DivBackward0>) tensor(0.9768)\n",
      "Valid:  4 tensor(0.0981) tensor(0.9727)\n"
     ]
    }
   ],
   "source": [
    "fit(5,learn,CallbackHandler([Accuracy()]))"
   ]
  },
  {
   "cell_type": "code",
   "execution_count": 43,
   "metadata": {},
   "outputs": [
    {
     "data": {
      "text/plain": [
       "0.55"
      ]
     },
     "execution_count": 43,
     "metadata": {},
     "output_type": "execute_result"
    }
   ],
   "source": [
    "learn.opt.param_groups[0]['lr']"
   ]
  },
  {
   "cell_type": "code",
   "execution_count": 44,
   "metadata": {},
   "outputs": [],
   "source": [
    "#export\n",
    "class Recorder(Callbacks):\n",
    "    def begin_fit(self,learn):\n",
    "        super().begin_fit(learn)\n",
    "        self.losses, self.lrs = [], []\n",
    "        return True\n",
    "        \n",
    "    def after_step(self):\n",
    "        self.lrs.append(self.learn.opt.param_groups[0]['lr'])\n",
    "        self.losses.append(self.loss.detach().cpu())\n",
    "        return True\n",
    "    \n",
    "    def plot_lr(self): plt.plot(self.lrs)\n",
    "        \n",
    "    def plot_loss(self): plt.plot(self.losses)"
   ]
  },
  {
   "cell_type": "code",
   "execution_count": 47,
   "metadata": {},
   "outputs": [],
   "source": [
    "recorder = Recorder()"
   ]
  },
  {
   "cell_type": "code",
   "execution_count": 48,
   "metadata": {},
   "outputs": [
    {
     "name": "stdout",
     "output_type": "stream",
     "text": [
      "Train:  0 tensor(0.3097, grad_fn=<DivBackward0>) tensor(0.9050)\n",
      "Valid:  0 tensor(0.2694) tensor(0.9242)\n",
      "Train:  1 tensor(0.1399, grad_fn=<DivBackward0>) tensor(0.9571)\n",
      "Valid:  1 tensor(0.2034) tensor(0.9343)\n",
      "Train:  2 tensor(0.1061, grad_fn=<DivBackward0>) tensor(0.9669)\n",
      "Valid:  2 tensor(0.1191) tensor(0.9670)\n",
      "Train:  3 tensor(0.0868, grad_fn=<DivBackward0>) tensor(0.9730)\n",
      "Valid:  3 tensor(0.1174) tensor(0.9682)\n",
      "Train:  4 tensor(0.0750, grad_fn=<DivBackward0>) tensor(0.9769)\n",
      "Valid:  4 tensor(0.1248) tensor(0.9635)\n"
     ]
    }
   ],
   "source": [
    "fit(5,learn,CallbackHandler([Accuracy(),recorder]))"
   ]
  },
  {
   "cell_type": "code",
   "execution_count": 49,
   "metadata": {},
   "outputs": [
    {
     "data": {
      "image/png": "[encoded data removed]",
      "text/plain": [
       "<Figure size 432x288 with 1 Axes>"
      ]
     },
     "metadata": {
      "needs_background": "light"
     },
     "output_type": "display_data"
    }
   ],
   "source": [
    "recorder.plot_lr()"
   ]
  },
  {
   "cell_type": "code",
   "execution_count": 50,
   "metadata": {},
   "outputs": [
    {
     "data": {
      "image/png": "[encoded data removed]",
      "text/plain": [
       "<Figure size 432x288 with 1 Axes>"
      ]
     },
     "metadata": {
      "needs_background": "light"
     },
     "output_type": "display_data"
    }
   ],
   "source": [
    "recorder.plot_loss()"
   ]
  },
  {
   "cell_type": "markdown",
   "metadata": {},
   "source": [
    "# Schedule LR"
   ]
  },
  {
   "cell_type": "code",
   "execution_count": 57,
   "metadata": {},
   "outputs": [],
   "source": [
    "#export\n",
    "\n",
    "def annealer(f):\n",
    "    def _inner(start,end): return partial(f,start,end)\n",
    "    return _inner"
   ]
  },
  {
   "cell_type": "code",
   "execution_count": 58,
   "metadata": {},
   "outputs": [],
   "source": [
    "#export\n",
    "\n",
    "@annealer\n",
    "def lin_sched(start,end,pos):\n",
    "    return start + (end - start) * pos"
   ]
  },
  {
   "cell_type": "code",
   "execution_count": 59,
   "metadata": {},
   "outputs": [],
   "source": [
    "f = lin_sched(1,2)"
   ]
  },
  {
   "cell_type": "code",
   "execution_count": 60,
   "metadata": {},
   "outputs": [
    {
     "data": {
      "text/plain": [
       "1.3"
      ]
     },
     "execution_count": 60,
     "metadata": {},
     "output_type": "execute_result"
    }
   ],
   "source": [
    "f(0.3)"
   ]
  },
  {
   "cell_type": "code",
   "execution_count": 61,
   "metadata": {},
   "outputs": [],
   "source": [
    "#export\n",
    "\n",
    "@annealer\n",
    "def cos_sched(start,end,pos):\n",
    "    return start + (1 + math.cos(math.pi*(1-pos))) * (end-start) / 2\n",
    "\n",
    "@annealer\n",
    "def no_sched(start,end,pos):\n",
    "    return start\n",
    "\n",
    "@annealer\n",
    "def exp_sched(start,end,pos):\n",
    "    return start * (end/start) ** pos"
   ]
  },
  {
   "cell_type": "code",
   "execution_count": 62,
   "metadata": {},
   "outputs": [
    {
     "data": {
      "text/plain": [
       "['NO', 'LINEAR', 'COS', 'EXP']"
      ]
     },
     "execution_count": 62,
     "metadata": {},
     "output_type": "execute_result"
    }
   ],
   "source": [
    "annealings = \"NO LINEAR COS EXP\".split()\n",
    "annealings"
   ]
  },
  {
   "cell_type": "code",
   "execution_count": 78,
   "metadata": {},
   "outputs": [
    {
     "data": {
      "image/png": "[encoded data removed]",
      "text/plain": [
       "<Figure size 432x288 with 1 Axes>"
      ]
     },
     "metadata": {
      "needs_background": "light"
     },
     "output_type": "display_data"
    }
   ],
   "source": [
    "a = torch.arange(0, 100)\n",
    "p = torch.linspace(0.01,1,100)\n",
    "\n",
    "torch.Tensor.ndim = property(lambda x: len(x.shape))\n",
    "\n",
    "fns = [no_sched, lin_sched, cos_sched, exp_sched]\n",
    "for fn, t in zip(fns, annealings):\n",
    "    f = fn(2, 1e-2)\n",
    "    plt.plot(a, [f(o) for o in p], label=t)\n",
    "plt.legend();"
   ]
  },
  {
   "cell_type": "code",
   "execution_count": null,
   "metadata": {},
   "outputs": [],
   "source": []
  }
 ],
 "metadata": {
  "kernelspec": {
   "display_name": "Python 3",
   "language": "python",
   "name": "python3"
  },
  "language_info": {
   "codemirror_mode": {
    "name": "ipython",
    "version": 3
   },
   "file_extension": ".py",
   "mimetype": "text/x-python",
   "name": "python",
   "nbconvert_exporter": "python",
   "pygments_lexer": "ipython3",
   "version": "3.7.2"
  }
 },
 "nbformat": 4,
 "nbformat_minor": 2
}
